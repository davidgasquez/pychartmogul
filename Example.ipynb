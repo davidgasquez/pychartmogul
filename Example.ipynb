{
 "cells": [
  {
   "cell_type": "code",
   "execution_count": 1,
   "metadata": {
    "collapsed": false
   },
   "outputs": [],
   "source": [
    "import os\n",
    "\n",
    "from pychartmogul.metrics import ChartMogulMetricsClient\n",
    "from pychartmogul.utils import response_to_dataframe"
   ]
  },
  {
   "cell_type": "code",
   "execution_count": 2,
   "metadata": {
    "collapsed": false
   },
   "outputs": [],
   "source": [
    "account_token = os.environ.get('CHARTMOGUL_ACCOUNT_TOKEN')\n",
    "secret_key = os.environ.get('CHARTMOGUL_SECRET_KEY')"
   ]
  },
  {
   "cell_type": "code",
   "execution_count": 3,
   "metadata": {
    "collapsed": false
   },
   "outputs": [],
   "source": [
    "client = ChartMogulMetricsClient(account_token, secret_key)"
   ]
  },
  {
   "cell_type": "code",
   "execution_count": 4,
   "metadata": {
    "collapsed": false
   },
   "outputs": [],
   "source": [
    "response = client.get_metric('mrr', '2016-06-01', '2016-06-10')"
   ]
  },
  {
   "cell_type": "code",
   "execution_count": 5,
   "metadata": {
    "collapsed": false
   },
   "outputs": [
    {
     "data": {
      "text/plain": [
       "{'date': '2016-06-01',\n",
       " 'mrr': 85741656,\n",
       " 'mrr-churn': -136475,\n",
       " 'mrr-contraction': -36558,\n",
       " 'mrr-expansion': 150346,\n",
       " 'mrr-new-business': 187283,\n",
       " 'mrr-reactivation': 38750}"
      ]
     },
     "execution_count": 5,
     "metadata": {},
     "output_type": "execute_result"
    }
   ],
   "source": [
    "response['entries'][0]"
   ]
  },
  {
   "cell_type": "code",
   "execution_count": 6,
   "metadata": {
    "collapsed": false
   },
   "outputs": [
    {
     "data": {
      "text/html": [
       "<div>\n",
       "<table border=\"1\" class=\"dataframe\">\n",
       "  <thead>\n",
       "    <tr style=\"text-align: right;\">\n",
       "      <th></th>\n",
       "      <th>mrr</th>\n",
       "      <th>mrr-churn</th>\n",
       "      <th>mrr-contraction</th>\n",
       "      <th>mrr-expansion</th>\n",
       "      <th>mrr-new-business</th>\n",
       "      <th>mrr-reactivation</th>\n",
       "    </tr>\n",
       "    <tr>\n",
       "      <th>date</th>\n",
       "      <th></th>\n",
       "      <th></th>\n",
       "      <th></th>\n",
       "      <th></th>\n",
       "      <th></th>\n",
       "      <th></th>\n",
       "    </tr>\n",
       "  </thead>\n",
       "  <tbody>\n",
       "    <tr>\n",
       "      <th>2016-06-01</th>\n",
       "      <td>857416.56</td>\n",
       "      <td>-1364.75</td>\n",
       "      <td>-365.58</td>\n",
       "      <td>1503.46</td>\n",
       "      <td>1872.83</td>\n",
       "      <td>387.50</td>\n",
       "    </tr>\n",
       "    <tr>\n",
       "      <th>2016-06-02</th>\n",
       "      <td>860489.28</td>\n",
       "      <td>-1520.75</td>\n",
       "      <td>-231.17</td>\n",
       "      <td>1786.72</td>\n",
       "      <td>2723.42</td>\n",
       "      <td>314.50</td>\n",
       "    </tr>\n",
       "    <tr>\n",
       "      <th>2016-06-03</th>\n",
       "      <td>861630.33</td>\n",
       "      <td>-1405.50</td>\n",
       "      <td>-455.67</td>\n",
       "      <td>1098.47</td>\n",
       "      <td>1698.25</td>\n",
       "      <td>205.50</td>\n",
       "    </tr>\n",
       "    <tr>\n",
       "      <th>2016-06-04</th>\n",
       "      <td>861196.49</td>\n",
       "      <td>-1745.00</td>\n",
       "      <td>-313.92</td>\n",
       "      <td>591.24</td>\n",
       "      <td>925.34</td>\n",
       "      <td>108.50</td>\n",
       "    </tr>\n",
       "    <tr>\n",
       "      <th>2016-06-05</th>\n",
       "      <td>861444.90</td>\n",
       "      <td>-1445.00</td>\n",
       "      <td>-496.47</td>\n",
       "      <td>799.21</td>\n",
       "      <td>812.50</td>\n",
       "      <td>578.17</td>\n",
       "    </tr>\n",
       "  </tbody>\n",
       "</table>\n",
       "</div>"
      ],
      "text/plain": [
       "                  mrr  mrr-churn  mrr-contraction  mrr-expansion  \\\n",
       "date                                                               \n",
       "2016-06-01  857416.56   -1364.75          -365.58        1503.46   \n",
       "2016-06-02  860489.28   -1520.75          -231.17        1786.72   \n",
       "2016-06-03  861630.33   -1405.50          -455.67        1098.47   \n",
       "2016-06-04  861196.49   -1745.00          -313.92         591.24   \n",
       "2016-06-05  861444.90   -1445.00          -496.47         799.21   \n",
       "\n",
       "            mrr-new-business  mrr-reactivation  \n",
       "date                                            \n",
       "2016-06-01           1872.83            387.50  \n",
       "2016-06-02           2723.42            314.50  \n",
       "2016-06-03           1698.25            205.50  \n",
       "2016-06-04            925.34            108.50  \n",
       "2016-06-05            812.50            578.17  "
      ]
     },
     "execution_count": 6,
     "metadata": {},
     "output_type": "execute_result"
    }
   ],
   "source": [
    "response_to_dataframe(response, in_dollars=True).head()"
   ]
  },
  {
   "cell_type": "code",
   "execution_count": 7,
   "metadata": {
    "collapsed": false
   },
   "outputs": [
    {
     "data": {
      "text/html": [
       "<div>\n",
       "<table border=\"1\" class=\"dataframe\">\n",
       "  <thead>\n",
       "    <tr style=\"text-align: right;\">\n",
       "      <th></th>\n",
       "      <th>arpa</th>\n",
       "      <th>arr</th>\n",
       "      <th>asp</th>\n",
       "      <th>customer-churn-rate</th>\n",
       "      <th>customers</th>\n",
       "      <th>ltv</th>\n",
       "      <th>mrr</th>\n",
       "      <th>mrr-churn-rate</th>\n",
       "    </tr>\n",
       "    <tr>\n",
       "      <th>date</th>\n",
       "      <th></th>\n",
       "      <th></th>\n",
       "      <th></th>\n",
       "      <th></th>\n",
       "      <th></th>\n",
       "      <th></th>\n",
       "      <th></th>\n",
       "      <th></th>\n",
       "    </tr>\n",
       "  </thead>\n",
       "  <tbody>\n",
       "    <tr>\n",
       "      <th>2016-06-01</th>\n",
       "      <td>15.49</td>\n",
       "      <td>10288998.72</td>\n",
       "      <td>14.66</td>\n",
       "      <td>5.18</td>\n",
       "      <td>55249</td>\n",
       "      <td>301.015921</td>\n",
       "      <td>857416.56</td>\n",
       "      <td>1.79</td>\n",
       "    </tr>\n",
       "    <tr>\n",
       "      <th>2016-06-02</th>\n",
       "      <td>15.53</td>\n",
       "      <td>10325871.36</td>\n",
       "      <td>14.66</td>\n",
       "      <td>5.18</td>\n",
       "      <td>55289</td>\n",
       "      <td>301.015921</td>\n",
       "      <td>860489.28</td>\n",
       "      <td>1.79</td>\n",
       "    </tr>\n",
       "    <tr>\n",
       "      <th>2016-06-03</th>\n",
       "      <td>15.54</td>\n",
       "      <td>10339563.96</td>\n",
       "      <td>14.66</td>\n",
       "      <td>5.18</td>\n",
       "      <td>55329</td>\n",
       "      <td>301.015921</td>\n",
       "      <td>861630.33</td>\n",
       "      <td>1.79</td>\n",
       "    </tr>\n",
       "    <tr>\n",
       "      <th>2016-06-04</th>\n",
       "      <td>15.54</td>\n",
       "      <td>10334357.88</td>\n",
       "      <td>14.66</td>\n",
       "      <td>5.18</td>\n",
       "      <td>55298</td>\n",
       "      <td>301.015921</td>\n",
       "      <td>861196.49</td>\n",
       "      <td>1.79</td>\n",
       "    </tr>\n",
       "    <tr>\n",
       "      <th>2016-06-05</th>\n",
       "      <td>15.55</td>\n",
       "      <td>10337338.80</td>\n",
       "      <td>14.66</td>\n",
       "      <td>5.18</td>\n",
       "      <td>55305</td>\n",
       "      <td>301.015921</td>\n",
       "      <td>861444.90</td>\n",
       "      <td>1.79</td>\n",
       "    </tr>\n",
       "    <tr>\n",
       "      <th>2016-06-06</th>\n",
       "      <td>15.56</td>\n",
       "      <td>10356012.72</td>\n",
       "      <td>14.66</td>\n",
       "      <td>5.18</td>\n",
       "      <td>55396</td>\n",
       "      <td>301.015921</td>\n",
       "      <td>863001.06</td>\n",
       "      <td>1.79</td>\n",
       "    </tr>\n",
       "    <tr>\n",
       "      <th>2016-06-07</th>\n",
       "      <td>15.54</td>\n",
       "      <td>10357645.68</td>\n",
       "      <td>14.66</td>\n",
       "      <td>5.18</td>\n",
       "      <td>55443</td>\n",
       "      <td>301.015921</td>\n",
       "      <td>863137.14</td>\n",
       "      <td>1.79</td>\n",
       "    </tr>\n",
       "    <tr>\n",
       "      <th>2016-06-08</th>\n",
       "      <td>15.56</td>\n",
       "      <td>10378364.64</td>\n",
       "      <td>14.66</td>\n",
       "      <td>5.18</td>\n",
       "      <td>55491</td>\n",
       "      <td>301.015921</td>\n",
       "      <td>864863.72</td>\n",
       "      <td>1.79</td>\n",
       "    </tr>\n",
       "    <tr>\n",
       "      <th>2016-06-09</th>\n",
       "      <td>15.56</td>\n",
       "      <td>10395229.68</td>\n",
       "      <td>14.66</td>\n",
       "      <td>5.18</td>\n",
       "      <td>55563</td>\n",
       "      <td>301.015921</td>\n",
       "      <td>866269.14</td>\n",
       "      <td>1.79</td>\n",
       "    </tr>\n",
       "    <tr>\n",
       "      <th>2016-06-10</th>\n",
       "      <td>15.59</td>\n",
       "      <td>10421989.68</td>\n",
       "      <td>14.66</td>\n",
       "      <td>5.18</td>\n",
       "      <td>55628</td>\n",
       "      <td>301.015921</td>\n",
       "      <td>868499.14</td>\n",
       "      <td>1.79</td>\n",
       "    </tr>\n",
       "  </tbody>\n",
       "</table>\n",
       "</div>"
      ],
      "text/plain": [
       "             arpa          arr    asp  customer-churn-rate  customers  \\\n",
       "date                                                                    \n",
       "2016-06-01  15.49  10288998.72  14.66                 5.18      55249   \n",
       "2016-06-02  15.53  10325871.36  14.66                 5.18      55289   \n",
       "2016-06-03  15.54  10339563.96  14.66                 5.18      55329   \n",
       "2016-06-04  15.54  10334357.88  14.66                 5.18      55298   \n",
       "2016-06-05  15.55  10337338.80  14.66                 5.18      55305   \n",
       "2016-06-06  15.56  10356012.72  14.66                 5.18      55396   \n",
       "2016-06-07  15.54  10357645.68  14.66                 5.18      55443   \n",
       "2016-06-08  15.56  10378364.64  14.66                 5.18      55491   \n",
       "2016-06-09  15.56  10395229.68  14.66                 5.18      55563   \n",
       "2016-06-10  15.59  10421989.68  14.66                 5.18      55628   \n",
       "\n",
       "                   ltv        mrr  mrr-churn-rate  \n",
       "date                                               \n",
       "2016-06-01  301.015921  857416.56            1.79  \n",
       "2016-06-02  301.015921  860489.28            1.79  \n",
       "2016-06-03  301.015921  861630.33            1.79  \n",
       "2016-06-04  301.015921  861196.49            1.79  \n",
       "2016-06-05  301.015921  861444.90            1.79  \n",
       "2016-06-06  301.015921  863001.06            1.79  \n",
       "2016-06-07  301.015921  863137.14            1.79  \n",
       "2016-06-08  301.015921  864863.72            1.79  \n",
       "2016-06-09  301.015921  866269.14            1.79  \n",
       "2016-06-10  301.015921  868499.14            1.79  "
      ]
     },
     "execution_count": 7,
     "metadata": {},
     "output_type": "execute_result"
    }
   ],
   "source": [
    "response_to_dataframe(client.get_summary('2016-06-01', '2016-06-10'), in_dollars=True)"
   ]
  }
 ],
 "metadata": {
  "kernelspec": {
   "display_name": "Python 3",
   "language": "python",
   "name": "python3"
  },
  "language_info": {
   "codemirror_mode": {
    "name": "ipython",
    "version": 3
   },
   "file_extension": ".py",
   "mimetype": "text/x-python",
   "name": "python",
   "nbconvert_exporter": "python",
   "pygments_lexer": "ipython3",
   "version": "3.5.1"
  }
 },
 "nbformat": 4,
 "nbformat_minor": 0
}
