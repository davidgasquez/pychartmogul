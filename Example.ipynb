{
 "cells": [
  {
   "cell_type": "code",
   "execution_count": 1,
   "metadata": {
    "collapsed": true
   },
   "outputs": [],
   "source": [
    "import os\n",
    "from pychartmogul.metrics import ChartMogulMetrics"
   ]
  },
  {
   "cell_type": "code",
   "execution_count": 2,
   "metadata": {
    "collapsed": false
   },
   "outputs": [],
   "source": [
    "account_token = os.environ.get('CHARTMOGUL_ACCOUNT_TOKEN')\n",
    "secret_key = os.environ.get('CHARTMOGUL_SECRET_KEY')"
   ]
  },
  {
   "cell_type": "code",
   "execution_count": 3,
   "metadata": {
    "collapsed": false
   },
   "outputs": [],
   "source": [
    "wrapper = ChartMogulMetrics(account_token, secret_key)"
   ]
  },
  {
   "cell_type": "code",
   "execution_count": 4,
   "metadata": {
    "collapsed": false
   },
   "outputs": [
    {
     "data": {
      "text/html": [
       "<div>\n",
       "<table border=\"1\" class=\"dataframe\">\n",
       "  <thead>\n",
       "    <tr style=\"text-align: right;\">\n",
       "      <th></th>\n",
       "      <th>mrr</th>\n",
       "      <th>mrr-churn</th>\n",
       "      <th>mrr-contraction</th>\n",
       "      <th>mrr-expansion</th>\n",
       "      <th>mrr-new-business</th>\n",
       "      <th>mrr-reactivation</th>\n",
       "    </tr>\n",
       "    <tr>\n",
       "      <th>date</th>\n",
       "      <th></th>\n",
       "      <th></th>\n",
       "      <th></th>\n",
       "      <th></th>\n",
       "      <th></th>\n",
       "      <th></th>\n",
       "    </tr>\n",
       "  </thead>\n",
       "  <tbody>\n",
       "    <tr>\n",
       "      <th>2016-06-01</th>\n",
       "      <td>857416.56</td>\n",
       "      <td>-1364.75</td>\n",
       "      <td>-365.58</td>\n",
       "      <td>1503.46</td>\n",
       "      <td>1872.83</td>\n",
       "      <td>387.50</td>\n",
       "    </tr>\n",
       "    <tr>\n",
       "      <th>2016-06-02</th>\n",
       "      <td>860489.28</td>\n",
       "      <td>-1520.75</td>\n",
       "      <td>-231.17</td>\n",
       "      <td>1786.72</td>\n",
       "      <td>2723.42</td>\n",
       "      <td>314.50</td>\n",
       "    </tr>\n",
       "    <tr>\n",
       "      <th>2016-06-03</th>\n",
       "      <td>861630.33</td>\n",
       "      <td>-1405.50</td>\n",
       "      <td>-455.67</td>\n",
       "      <td>1098.47</td>\n",
       "      <td>1698.25</td>\n",
       "      <td>205.50</td>\n",
       "    </tr>\n",
       "    <tr>\n",
       "      <th>2016-06-04</th>\n",
       "      <td>861196.49</td>\n",
       "      <td>-1745.00</td>\n",
       "      <td>-313.92</td>\n",
       "      <td>591.24</td>\n",
       "      <td>925.34</td>\n",
       "      <td>108.50</td>\n",
       "    </tr>\n",
       "    <tr>\n",
       "      <th>2016-06-05</th>\n",
       "      <td>861444.90</td>\n",
       "      <td>-1445.00</td>\n",
       "      <td>-496.47</td>\n",
       "      <td>799.21</td>\n",
       "      <td>812.50</td>\n",
       "      <td>578.17</td>\n",
       "    </tr>\n",
       "  </tbody>\n",
       "</table>\n",
       "</div>"
      ],
      "text/plain": [
       "                  mrr  mrr-churn  mrr-contraction  mrr-expansion  \\\n",
       "date                                                               \n",
       "2016-06-01  857416.56   -1364.75          -365.58        1503.46   \n",
       "2016-06-02  860489.28   -1520.75          -231.17        1786.72   \n",
       "2016-06-03  861630.33   -1405.50          -455.67        1098.47   \n",
       "2016-06-04  861196.49   -1745.00          -313.92         591.24   \n",
       "2016-06-05  861444.90   -1445.00          -496.47         799.21   \n",
       "\n",
       "            mrr-new-business  mrr-reactivation  \n",
       "date                                            \n",
       "2016-06-01           1872.83            387.50  \n",
       "2016-06-02           2723.42            314.50  \n",
       "2016-06-03           1698.25            205.50  \n",
       "2016-06-04            925.34            108.50  \n",
       "2016-06-05            812.50            578.17  "
      ]
     },
     "execution_count": 4,
     "metadata": {},
     "output_type": "execute_result"
    }
   ],
   "source": [
    "wrapper.get_metric('mrr', '2016-06-01', '2016-06-10').head()"
   ]
  },
  {
   "cell_type": "code",
   "execution_count": 5,
   "metadata": {
    "collapsed": false
   },
   "outputs": [
    {
     "data": {
      "text/html": [
       "<div>\n",
       "<table border=\"1\" class=\"dataframe\">\n",
       "  <thead>\n",
       "    <tr style=\"text-align: right;\">\n",
       "      <th></th>\n",
       "      <th>arpa</th>\n",
       "      <th>arr</th>\n",
       "      <th>asp</th>\n",
       "      <th>customer-churn-rate</th>\n",
       "      <th>customers</th>\n",
       "      <th>ltv</th>\n",
       "      <th>mrr</th>\n",
       "      <th>mrr-churn-rate</th>\n",
       "    </tr>\n",
       "    <tr>\n",
       "      <th>date</th>\n",
       "      <th></th>\n",
       "      <th></th>\n",
       "      <th></th>\n",
       "      <th></th>\n",
       "      <th></th>\n",
       "      <th></th>\n",
       "      <th></th>\n",
       "      <th></th>\n",
       "    </tr>\n",
       "  </thead>\n",
       "  <tbody>\n",
       "    <tr>\n",
       "      <th>2016-01-01</th>\n",
       "      <td>14.46</td>\n",
       "      <td>8489992.92</td>\n",
       "      <td>12.35</td>\n",
       "      <td>1.95</td>\n",
       "      <td>48865</td>\n",
       "      <td>276.080863</td>\n",
       "      <td>707499.41</td>\n",
       "      <td>0.81</td>\n",
       "    </tr>\n",
       "    <tr>\n",
       "      <th>2016-01-02</th>\n",
       "      <td>14.46</td>\n",
       "      <td>8494675.92</td>\n",
       "      <td>12.35</td>\n",
       "      <td>1.95</td>\n",
       "      <td>48865</td>\n",
       "      <td>276.080863</td>\n",
       "      <td>707889.66</td>\n",
       "      <td>0.81</td>\n",
       "    </tr>\n",
       "    <tr>\n",
       "      <th>2016-01-03</th>\n",
       "      <td>14.46</td>\n",
       "      <td>8500965.84</td>\n",
       "      <td>12.35</td>\n",
       "      <td>1.95</td>\n",
       "      <td>48895</td>\n",
       "      <td>276.080863</td>\n",
       "      <td>708413.82</td>\n",
       "      <td>0.81</td>\n",
       "    </tr>\n",
       "    <tr>\n",
       "      <th>2016-01-04</th>\n",
       "      <td>14.46</td>\n",
       "      <td>8520150.84</td>\n",
       "      <td>12.35</td>\n",
       "      <td>1.95</td>\n",
       "      <td>49017</td>\n",
       "      <td>276.080863</td>\n",
       "      <td>710012.57</td>\n",
       "      <td>0.81</td>\n",
       "    </tr>\n",
       "    <tr>\n",
       "      <th>2016-01-05</th>\n",
       "      <td>14.46</td>\n",
       "      <td>8538015.84</td>\n",
       "      <td>12.35</td>\n",
       "      <td>1.95</td>\n",
       "      <td>49098</td>\n",
       "      <td>276.080863</td>\n",
       "      <td>711501.32</td>\n",
       "      <td>0.81</td>\n",
       "    </tr>\n",
       "  </tbody>\n",
       "</table>\n",
       "</div>"
      ],
      "text/plain": [
       "             arpa         arr    asp  customer-churn-rate  customers  \\\n",
       "date                                                                   \n",
       "2016-01-01  14.46  8489992.92  12.35                 1.95      48865   \n",
       "2016-01-02  14.46  8494675.92  12.35                 1.95      48865   \n",
       "2016-01-03  14.46  8500965.84  12.35                 1.95      48895   \n",
       "2016-01-04  14.46  8520150.84  12.35                 1.95      49017   \n",
       "2016-01-05  14.46  8538015.84  12.35                 1.95      49098   \n",
       "\n",
       "                   ltv        mrr  mrr-churn-rate  \n",
       "date                                               \n",
       "2016-01-01  276.080863  707499.41            0.81  \n",
       "2016-01-02  276.080863  707889.66            0.81  \n",
       "2016-01-03  276.080863  708413.82            0.81  \n",
       "2016-01-04  276.080863  710012.57            0.81  \n",
       "2016-01-05  276.080863  711501.32            0.81  "
      ]
     },
     "execution_count": 5,
     "metadata": {},
     "output_type": "execute_result"
    }
   ],
   "source": [
    "wrapper.get_summary('2016-01-01', '2016-01-11').head()"
   ]
  }
 ],
 "metadata": {
  "kernelspec": {
   "display_name": "Python 3",
   "language": "python",
   "name": "python3"
  },
  "language_info": {
   "codemirror_mode": {
    "name": "ipython",
    "version": 3
   },
   "file_extension": ".py",
   "mimetype": "text/x-python",
   "name": "python",
   "nbconvert_exporter": "python",
   "pygments_lexer": "ipython3",
   "version": "3.5.1"
  }
 },
 "nbformat": 4,
 "nbformat_minor": 0
}
