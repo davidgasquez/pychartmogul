{
 "cells": [
  {
   "cell_type": "code",
   "execution_count": 1,
   "metadata": {
    "collapsed": true
   },
   "outputs": [],
   "source": [
    "import os\n",
    "from pychartmogul.metrics import ChartMogulMetrics"
   ]
  },
  {
   "cell_type": "code",
   "execution_count": 2,
   "metadata": {
    "collapsed": true
   },
   "outputs": [],
   "source": [
    "account_token = os.environ.get('CHARTMOGUL_ACCOUNT_TOKEN')\n",
    "secret_key = os.environ.get('CHARTMOGUL_SECRET_KEY')"
   ]
  },
  {
   "cell_type": "code",
   "execution_count": 3,
   "metadata": {
    "collapsed": false
   },
   "outputs": [],
   "source": [
    "wrapper = ChartMogulMetrics(account_token, secret_key)"
   ]
  },
  {
   "cell_type": "code",
   "execution_count": 4,
   "metadata": {
    "collapsed": false
   },
   "outputs": [
    {
     "data": {
      "text/html": [
       "<div>\n",
       "<table border=\"1\" class=\"dataframe\">\n",
       "  <thead>\n",
       "    <tr style=\"text-align: right;\">\n",
       "      <th></th>\n",
       "      <th>mrr</th>\n",
       "      <th>mrr-churn</th>\n",
       "      <th>mrr-contraction</th>\n",
       "      <th>mrr-expansion</th>\n",
       "      <th>mrr-new-business</th>\n",
       "      <th>mrr-reactivation</th>\n",
       "    </tr>\n",
       "    <tr>\n",
       "      <th>date</th>\n",
       "      <th></th>\n",
       "      <th></th>\n",
       "      <th></th>\n",
       "      <th></th>\n",
       "      <th></th>\n",
       "      <th></th>\n",
       "    </tr>\n",
       "  </thead>\n",
       "  <tbody>\n",
       "    <tr>\n",
       "      <th>2016-06-01</th>\n",
       "      <td>857416.56</td>\n",
       "      <td>-1364.75</td>\n",
       "      <td>-365.58</td>\n",
       "      <td>1503.46</td>\n",
       "      <td>1872.83</td>\n",
       "      <td>387.50</td>\n",
       "    </tr>\n",
       "    <tr>\n",
       "      <th>2016-06-02</th>\n",
       "      <td>860489.28</td>\n",
       "      <td>-1520.75</td>\n",
       "      <td>-231.17</td>\n",
       "      <td>1786.72</td>\n",
       "      <td>2723.42</td>\n",
       "      <td>314.50</td>\n",
       "    </tr>\n",
       "    <tr>\n",
       "      <th>2016-06-03</th>\n",
       "      <td>861630.33</td>\n",
       "      <td>-1405.50</td>\n",
       "      <td>-455.67</td>\n",
       "      <td>1098.47</td>\n",
       "      <td>1698.25</td>\n",
       "      <td>205.50</td>\n",
       "    </tr>\n",
       "    <tr>\n",
       "      <th>2016-06-04</th>\n",
       "      <td>861196.49</td>\n",
       "      <td>-1745.00</td>\n",
       "      <td>-313.92</td>\n",
       "      <td>591.24</td>\n",
       "      <td>925.34</td>\n",
       "      <td>108.50</td>\n",
       "    </tr>\n",
       "    <tr>\n",
       "      <th>2016-06-05</th>\n",
       "      <td>861444.90</td>\n",
       "      <td>-1445.00</td>\n",
       "      <td>-496.47</td>\n",
       "      <td>799.21</td>\n",
       "      <td>812.50</td>\n",
       "      <td>578.17</td>\n",
       "    </tr>\n",
       "  </tbody>\n",
       "</table>\n",
       "</div>"
      ],
      "text/plain": [
       "                  mrr  mrr-churn  mrr-contraction  mrr-expansion  \\\n",
       "date                                                               \n",
       "2016-06-01  857416.56   -1364.75          -365.58        1503.46   \n",
       "2016-06-02  860489.28   -1520.75          -231.17        1786.72   \n",
       "2016-06-03  861630.33   -1405.50          -455.67        1098.47   \n",
       "2016-06-04  861196.49   -1745.00          -313.92         591.24   \n",
       "2016-06-05  861444.90   -1445.00          -496.47         799.21   \n",
       "\n",
       "            mrr-new-business  mrr-reactivation  \n",
       "date                                            \n",
       "2016-06-01           1872.83            387.50  \n",
       "2016-06-02           2723.42            314.50  \n",
       "2016-06-03           1698.25            205.50  \n",
       "2016-06-04            925.34            108.50  \n",
       "2016-06-05            812.50            578.17  "
      ]
     },
     "execution_count": 4,
     "metadata": {},
     "output_type": "execute_result"
    }
   ],
   "source": [
    "wrapper.get_metric('mrr', '2016-06-01', '2016-06-10').head()"
   ]
  },
  {
   "cell_type": "code",
   "execution_count": 5,
   "metadata": {
    "collapsed": false
   },
   "outputs": [
    {
     "data": {
      "text/html": [
       "<div>\n",
       "<table border=\"1\" class=\"dataframe\">\n",
       "  <thead>\n",
       "    <tr style=\"text-align: right;\">\n",
       "      <th></th>\n",
       "      <th>mrr</th>\n",
       "      <th>mrr-churn</th>\n",
       "      <th>mrr-contraction</th>\n",
       "      <th>mrr-expansion</th>\n",
       "      <th>mrr-new-business</th>\n",
       "      <th>mrr-reactivation</th>\n",
       "    </tr>\n",
       "    <tr>\n",
       "      <th>date</th>\n",
       "      <th></th>\n",
       "      <th></th>\n",
       "      <th></th>\n",
       "      <th></th>\n",
       "      <th></th>\n",
       "      <th></th>\n",
       "    </tr>\n",
       "  </thead>\n",
       "  <tbody>\n",
       "    <tr>\n",
       "      <th>2016-01-31</th>\n",
       "      <td>733932.82</td>\n",
       "      <td>-37270.25</td>\n",
       "      <td>-6623.39</td>\n",
       "      <td>16305.79</td>\n",
       "      <td>44161.26</td>\n",
       "      <td>10059.00</td>\n",
       "    </tr>\n",
       "    <tr>\n",
       "      <th>2016-02-29</th>\n",
       "      <td>757793.91</td>\n",
       "      <td>-40077.76</td>\n",
       "      <td>-6314.47</td>\n",
       "      <td>18036.32</td>\n",
       "      <td>43800.50</td>\n",
       "      <td>8416.50</td>\n",
       "    </tr>\n",
       "    <tr>\n",
       "      <th>2016-03-31</th>\n",
       "      <td>790626.07</td>\n",
       "      <td>-42673.81</td>\n",
       "      <td>-8833.96</td>\n",
       "      <td>24488.50</td>\n",
       "      <td>49591.59</td>\n",
       "      <td>10259.84</td>\n",
       "    </tr>\n",
       "    <tr>\n",
       "      <th>2016-04-30</th>\n",
       "      <td>821791.49</td>\n",
       "      <td>-40549.75</td>\n",
       "      <td>-11822.04</td>\n",
       "      <td>24231.97</td>\n",
       "      <td>49023.32</td>\n",
       "      <td>10281.92</td>\n",
       "    </tr>\n",
       "    <tr>\n",
       "      <th>2016-05-31</th>\n",
       "      <td>855383.10</td>\n",
       "      <td>-38345.75</td>\n",
       "      <td>-12248.98</td>\n",
       "      <td>27724.62</td>\n",
       "      <td>45781.80</td>\n",
       "      <td>10679.92</td>\n",
       "    </tr>\n",
       "  </tbody>\n",
       "</table>\n",
       "</div>"
      ],
      "text/plain": [
       "                  mrr  mrr-churn  mrr-contraction  mrr-expansion  \\\n",
       "date                                                               \n",
       "2016-01-31  733932.82  -37270.25         -6623.39       16305.79   \n",
       "2016-02-29  757793.91  -40077.76         -6314.47       18036.32   \n",
       "2016-03-31  790626.07  -42673.81         -8833.96       24488.50   \n",
       "2016-04-30  821791.49  -40549.75        -11822.04       24231.97   \n",
       "2016-05-31  855383.10  -38345.75        -12248.98       27724.62   \n",
       "\n",
       "            mrr-new-business  mrr-reactivation  \n",
       "date                                            \n",
       "2016-01-31          44161.26          10059.00  \n",
       "2016-02-29          43800.50           8416.50  \n",
       "2016-03-31          49591.59          10259.84  \n",
       "2016-04-30          49023.32          10281.92  \n",
       "2016-05-31          45781.80          10679.92  "
      ]
     },
     "execution_count": 5,
     "metadata": {},
     "output_type": "execute_result"
    }
   ],
   "source": [
    "wrapper.get_metric('mrr', '2016-01-01', '2016-06-01', interval='month').head()"
   ]
  }
 ],
 "metadata": {
  "kernelspec": {
   "display_name": "Python 3",
   "language": "python",
   "name": "python3"
  },
  "language_info": {
   "codemirror_mode": {
    "name": "ipython",
    "version": 3
   },
   "file_extension": ".py",
   "mimetype": "text/x-python",
   "name": "python",
   "nbconvert_exporter": "python",
   "pygments_lexer": "ipython3",
   "version": "3.5.1"
  }
 },
 "nbformat": 4,
 "nbformat_minor": 0
}
