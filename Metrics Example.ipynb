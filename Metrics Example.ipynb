{
 "cells": [
  {
   "cell_type": "code",
   "execution_count": 1,
   "metadata": {
    "collapsed": false
   },
   "outputs": [],
   "source": [
    "import os\n",
    "\n",
    "from datetime import date\n",
    "\n",
    "from pychartmogul.client import ChartMogulClient\n",
    "from pychartmogul.utils import response_to_dataframe"
   ]
  },
  {
   "cell_type": "code",
   "execution_count": 2,
   "metadata": {
    "collapsed": false
   },
   "outputs": [],
   "source": [
    "account_token = os.environ.get('CHARTMOGUL_ACCOUNT_TOKEN')\n",
    "secret_key = os.environ.get('CHARTMOGUL_SECRET_KEY')"
   ]
  },
  {
   "cell_type": "markdown",
   "metadata": {},
   "source": [
    "### Connect to Chartmogul API"
   ]
  },
  {
   "cell_type": "code",
   "execution_count": 3,
   "metadata": {
    "collapsed": false
   },
   "outputs": [],
   "source": [
    "client = ChartMogulClient(account_token, secret_key)"
   ]
  },
  {
   "cell_type": "markdown",
   "metadata": {},
   "source": [
    "### Get MRR"
   ]
  },
  {
   "cell_type": "code",
   "execution_count": 4,
   "metadata": {
    "collapsed": false
   },
   "outputs": [],
   "source": [
    "response = client.metrics.get_metric('mrr', '2016-06-01', '2016-06-10')"
   ]
  },
  {
   "cell_type": "code",
   "execution_count": 5,
   "metadata": {
    "collapsed": false
   },
   "outputs": [
    {
     "data": {
      "text/plain": [
       "{'date': '2016-06-01',\n",
       " 'mrr': 85734090,\n",
       " 'mrr-churn': -136475,\n",
       " 'mrr-contraction': -36558,\n",
       " 'mrr-expansion': 150346,\n",
       " 'mrr-new-business': 187283,\n",
       " 'mrr-reactivation': 38750}"
      ]
     },
     "execution_count": 5,
     "metadata": {},
     "output_type": "execute_result"
    }
   ],
   "source": [
    "response['entries'][0]"
   ]
  },
  {
   "cell_type": "code",
   "execution_count": 6,
   "metadata": {
    "collapsed": false
   },
   "outputs": [
    {
     "data": {
      "text/html": [
       "<div>\n",
       "<table border=\"1\" class=\"dataframe\">\n",
       "  <thead>\n",
       "    <tr style=\"text-align: right;\">\n",
       "      <th></th>\n",
       "      <th>mrr</th>\n",
       "      <th>mrr-churn</th>\n",
       "      <th>mrr-contraction</th>\n",
       "      <th>mrr-expansion</th>\n",
       "      <th>mrr-new-business</th>\n",
       "      <th>mrr-reactivation</th>\n",
       "    </tr>\n",
       "    <tr>\n",
       "      <th>date</th>\n",
       "      <th></th>\n",
       "      <th></th>\n",
       "      <th></th>\n",
       "      <th></th>\n",
       "      <th></th>\n",
       "      <th></th>\n",
       "    </tr>\n",
       "  </thead>\n",
       "  <tbody>\n",
       "    <tr>\n",
       "      <th>2016-06-01</th>\n",
       "      <td>857340.90</td>\n",
       "      <td>-1364.75</td>\n",
       "      <td>-365.58</td>\n",
       "      <td>1503.46</td>\n",
       "      <td>1872.83</td>\n",
       "      <td>387.50</td>\n",
       "    </tr>\n",
       "    <tr>\n",
       "      <th>2016-06-02</th>\n",
       "      <td>860413.62</td>\n",
       "      <td>-1520.75</td>\n",
       "      <td>-231.17</td>\n",
       "      <td>1786.72</td>\n",
       "      <td>2723.42</td>\n",
       "      <td>314.50</td>\n",
       "    </tr>\n",
       "    <tr>\n",
       "      <th>2016-06-03</th>\n",
       "      <td>861554.67</td>\n",
       "      <td>-1405.50</td>\n",
       "      <td>-455.67</td>\n",
       "      <td>1098.47</td>\n",
       "      <td>1698.25</td>\n",
       "      <td>205.50</td>\n",
       "    </tr>\n",
       "    <tr>\n",
       "      <th>2016-06-04</th>\n",
       "      <td>861120.83</td>\n",
       "      <td>-1745.00</td>\n",
       "      <td>-313.92</td>\n",
       "      <td>591.24</td>\n",
       "      <td>925.34</td>\n",
       "      <td>108.50</td>\n",
       "    </tr>\n",
       "    <tr>\n",
       "      <th>2016-06-05</th>\n",
       "      <td>861369.24</td>\n",
       "      <td>-1445.00</td>\n",
       "      <td>-496.47</td>\n",
       "      <td>799.21</td>\n",
       "      <td>812.50</td>\n",
       "      <td>578.17</td>\n",
       "    </tr>\n",
       "  </tbody>\n",
       "</table>\n",
       "</div>"
      ],
      "text/plain": [
       "                  mrr  mrr-churn  mrr-contraction  mrr-expansion  \\\n",
       "date                                                               \n",
       "2016-06-01  857340.90   -1364.75          -365.58        1503.46   \n",
       "2016-06-02  860413.62   -1520.75          -231.17        1786.72   \n",
       "2016-06-03  861554.67   -1405.50          -455.67        1098.47   \n",
       "2016-06-04  861120.83   -1745.00          -313.92         591.24   \n",
       "2016-06-05  861369.24   -1445.00          -496.47         799.21   \n",
       "\n",
       "            mrr-new-business  mrr-reactivation  \n",
       "date                                            \n",
       "2016-06-01           1872.83            387.50  \n",
       "2016-06-02           2723.42            314.50  \n",
       "2016-06-03           1698.25            205.50  \n",
       "2016-06-04            925.34            108.50  \n",
       "2016-06-05            812.50            578.17  "
      ]
     },
     "execution_count": 6,
     "metadata": {},
     "output_type": "execute_result"
    }
   ],
   "source": [
    "response_to_dataframe(response, in_dollars=True).head()"
   ]
  },
  {
   "cell_type": "markdown",
   "metadata": {},
   "source": [
    "### Get Customer Count"
   ]
  },
  {
   "cell_type": "code",
   "execution_count": 7,
   "metadata": {
    "collapsed": false
   },
   "outputs": [],
   "source": [
    "response = client.metrics.get_metric('customer-count', date(2016,6,25))"
   ]
  },
  {
   "cell_type": "code",
   "execution_count": 8,
   "metadata": {
    "collapsed": false
   },
   "outputs": [
    {
     "data": {
      "text/plain": [
       "[{'customers': 56233, 'date': '2016-06-25'},\n",
       " {'customers': 56252, 'date': '2016-06-26'},\n",
       " {'customers': 56343, 'date': '2016-06-27'},\n",
       " {'customers': 56430, 'date': '2016-06-28'},\n",
       " {'customers': 56520, 'date': '2016-06-29'},\n",
       " {'customers': 56575, 'date': '2016-06-30'},\n",
       " {'customers': 56651, 'date': '2016-07-01'},\n",
       " {'customers': 56670, 'date': '2016-07-02'},\n",
       " {'customers': 56704, 'date': '2016-07-03'},\n",
       " {'customers': 56758, 'date': '2016-07-04'},\n",
       " {'customers': 56781, 'date': '2016-07-05'}]"
      ]
     },
     "execution_count": 8,
     "metadata": {},
     "output_type": "execute_result"
    }
   ],
   "source": [
    "response['entries']"
   ]
  },
  {
   "cell_type": "code",
   "execution_count": 9,
   "metadata": {
    "collapsed": false
   },
   "outputs": [
    {
     "data": {
      "text/html": [
       "<div>\n",
       "<table border=\"1\" class=\"dataframe\">\n",
       "  <thead>\n",
       "    <tr style=\"text-align: right;\">\n",
       "      <th></th>\n",
       "      <th>customers</th>\n",
       "    </tr>\n",
       "    <tr>\n",
       "      <th>date</th>\n",
       "      <th></th>\n",
       "    </tr>\n",
       "  </thead>\n",
       "  <tbody>\n",
       "    <tr>\n",
       "      <th>2016-06-25</th>\n",
       "      <td>56233</td>\n",
       "    </tr>\n",
       "    <tr>\n",
       "      <th>2016-06-26</th>\n",
       "      <td>56252</td>\n",
       "    </tr>\n",
       "    <tr>\n",
       "      <th>2016-06-27</th>\n",
       "      <td>56343</td>\n",
       "    </tr>\n",
       "    <tr>\n",
       "      <th>2016-06-28</th>\n",
       "      <td>56430</td>\n",
       "    </tr>\n",
       "    <tr>\n",
       "      <th>2016-06-29</th>\n",
       "      <td>56520</td>\n",
       "    </tr>\n",
       "  </tbody>\n",
       "</table>\n",
       "</div>"
      ],
      "text/plain": [
       "            customers\n",
       "date                 \n",
       "2016-06-25      56233\n",
       "2016-06-26      56252\n",
       "2016-06-27      56343\n",
       "2016-06-28      56430\n",
       "2016-06-29      56520"
      ]
     },
     "execution_count": 9,
     "metadata": {},
     "output_type": "execute_result"
    }
   ],
   "source": [
    "response_to_dataframe(response).head()"
   ]
  },
  {
   "cell_type": "markdown",
   "metadata": {},
   "source": [
    "### Metrics Summary"
   ]
  },
  {
   "cell_type": "code",
   "execution_count": 10,
   "metadata": {
    "collapsed": false
   },
   "outputs": [
    {
     "data": {
      "text/html": [
       "<div>\n",
       "<table border=\"1\" class=\"dataframe\">\n",
       "  <thead>\n",
       "    <tr style=\"text-align: right;\">\n",
       "      <th></th>\n",
       "      <th>arpa</th>\n",
       "      <th>arr</th>\n",
       "      <th>asp</th>\n",
       "      <th>customer-churn-rate</th>\n",
       "      <th>customers</th>\n",
       "      <th>ltv</th>\n",
       "      <th>mrr</th>\n",
       "      <th>mrr-churn-rate</th>\n",
       "    </tr>\n",
       "    <tr>\n",
       "      <th>date</th>\n",
       "      <th></th>\n",
       "      <th></th>\n",
       "      <th></th>\n",
       "      <th></th>\n",
       "      <th></th>\n",
       "      <th></th>\n",
       "      <th></th>\n",
       "      <th></th>\n",
       "    </tr>\n",
       "  </thead>\n",
       "  <tbody>\n",
       "    <tr>\n",
       "      <th>2016-06-01</th>\n",
       "      <td>15.49</td>\n",
       "      <td>10288090.80</td>\n",
       "      <td>14.66</td>\n",
       "      <td>1.73</td>\n",
       "      <td>55249</td>\n",
       "      <td>351.412713</td>\n",
       "      <td>857340.90</td>\n",
       "      <td>0.6</td>\n",
       "    </tr>\n",
       "    <tr>\n",
       "      <th>2016-06-02</th>\n",
       "      <td>15.53</td>\n",
       "      <td>10324963.44</td>\n",
       "      <td>14.66</td>\n",
       "      <td>1.73</td>\n",
       "      <td>55289</td>\n",
       "      <td>351.412713</td>\n",
       "      <td>860413.62</td>\n",
       "      <td>0.6</td>\n",
       "    </tr>\n",
       "    <tr>\n",
       "      <th>2016-06-03</th>\n",
       "      <td>15.54</td>\n",
       "      <td>10338656.04</td>\n",
       "      <td>14.66</td>\n",
       "      <td>1.73</td>\n",
       "      <td>55329</td>\n",
       "      <td>351.412713</td>\n",
       "      <td>861554.67</td>\n",
       "      <td>0.6</td>\n",
       "    </tr>\n",
       "    <tr>\n",
       "      <th>2016-06-04</th>\n",
       "      <td>15.54</td>\n",
       "      <td>10333449.96</td>\n",
       "      <td>14.66</td>\n",
       "      <td>1.73</td>\n",
       "      <td>55298</td>\n",
       "      <td>351.412713</td>\n",
       "      <td>861120.83</td>\n",
       "      <td>0.6</td>\n",
       "    </tr>\n",
       "    <tr>\n",
       "      <th>2016-06-05</th>\n",
       "      <td>15.55</td>\n",
       "      <td>10336430.88</td>\n",
       "      <td>14.66</td>\n",
       "      <td>1.73</td>\n",
       "      <td>55305</td>\n",
       "      <td>351.412713</td>\n",
       "      <td>861369.24</td>\n",
       "      <td>0.6</td>\n",
       "    </tr>\n",
       "    <tr>\n",
       "      <th>2016-06-06</th>\n",
       "      <td>15.56</td>\n",
       "      <td>10355104.80</td>\n",
       "      <td>14.66</td>\n",
       "      <td>1.73</td>\n",
       "      <td>55396</td>\n",
       "      <td>351.412713</td>\n",
       "      <td>862925.40</td>\n",
       "      <td>0.6</td>\n",
       "    </tr>\n",
       "    <tr>\n",
       "      <th>2016-06-07</th>\n",
       "      <td>15.54</td>\n",
       "      <td>10356737.76</td>\n",
       "      <td>14.66</td>\n",
       "      <td>1.73</td>\n",
       "      <td>55443</td>\n",
       "      <td>351.412713</td>\n",
       "      <td>863061.48</td>\n",
       "      <td>0.6</td>\n",
       "    </tr>\n",
       "    <tr>\n",
       "      <th>2016-06-08</th>\n",
       "      <td>15.55</td>\n",
       "      <td>10377456.72</td>\n",
       "      <td>14.66</td>\n",
       "      <td>1.73</td>\n",
       "      <td>55491</td>\n",
       "      <td>351.412713</td>\n",
       "      <td>864788.06</td>\n",
       "      <td>0.6</td>\n",
       "    </tr>\n",
       "    <tr>\n",
       "      <th>2016-06-09</th>\n",
       "      <td>15.56</td>\n",
       "      <td>10394321.76</td>\n",
       "      <td>14.66</td>\n",
       "      <td>1.73</td>\n",
       "      <td>55563</td>\n",
       "      <td>351.412713</td>\n",
       "      <td>866193.48</td>\n",
       "      <td>0.6</td>\n",
       "    </tr>\n",
       "    <tr>\n",
       "      <th>2016-06-10</th>\n",
       "      <td>15.59</td>\n",
       "      <td>10421081.76</td>\n",
       "      <td>14.66</td>\n",
       "      <td>1.73</td>\n",
       "      <td>55628</td>\n",
       "      <td>351.412713</td>\n",
       "      <td>868423.48</td>\n",
       "      <td>0.6</td>\n",
       "    </tr>\n",
       "  </tbody>\n",
       "</table>\n",
       "</div>"
      ],
      "text/plain": [
       "             arpa          arr    asp  customer-churn-rate  customers  \\\n",
       "date                                                                    \n",
       "2016-06-01  15.49  10288090.80  14.66                 1.73      55249   \n",
       "2016-06-02  15.53  10324963.44  14.66                 1.73      55289   \n",
       "2016-06-03  15.54  10338656.04  14.66                 1.73      55329   \n",
       "2016-06-04  15.54  10333449.96  14.66                 1.73      55298   \n",
       "2016-06-05  15.55  10336430.88  14.66                 1.73      55305   \n",
       "2016-06-06  15.56  10355104.80  14.66                 1.73      55396   \n",
       "2016-06-07  15.54  10356737.76  14.66                 1.73      55443   \n",
       "2016-06-08  15.55  10377456.72  14.66                 1.73      55491   \n",
       "2016-06-09  15.56  10394321.76  14.66                 1.73      55563   \n",
       "2016-06-10  15.59  10421081.76  14.66                 1.73      55628   \n",
       "\n",
       "                   ltv        mrr  mrr-churn-rate  \n",
       "date                                               \n",
       "2016-06-01  351.412713  857340.90             0.6  \n",
       "2016-06-02  351.412713  860413.62             0.6  \n",
       "2016-06-03  351.412713  861554.67             0.6  \n",
       "2016-06-04  351.412713  861120.83             0.6  \n",
       "2016-06-05  351.412713  861369.24             0.6  \n",
       "2016-06-06  351.412713  862925.40             0.6  \n",
       "2016-06-07  351.412713  863061.48             0.6  \n",
       "2016-06-08  351.412713  864788.06             0.6  \n",
       "2016-06-09  351.412713  866193.48             0.6  \n",
       "2016-06-10  351.412713  868423.48             0.6  "
      ]
     },
     "execution_count": 10,
     "metadata": {},
     "output_type": "execute_result"
    }
   ],
   "source": [
    "response_to_dataframe(client.metrics.get_summary('2016-06-01', '2016-06-10'), in_dollars=True)"
   ]
  }
 ],
 "metadata": {
  "kernelspec": {
   "display_name": "Python 3",
   "language": "python",
   "name": "python3"
  },
  "language_info": {
   "codemirror_mode": {
    "name": "ipython",
    "version": 3
   },
   "file_extension": ".py",
   "mimetype": "text/x-python",
   "name": "python",
   "nbconvert_exporter": "python",
   "pygments_lexer": "ipython3",
   "version": "3.5.1"
  }
 },
 "nbformat": 4,
 "nbformat_minor": 0
}
